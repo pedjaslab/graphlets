{
 "cells": [
  {
   "cell_type": "markdown",
   "id": "719c7aa4-d642-4c9d-837f-4ea02728182d",
   "metadata": {},
   "source": [
    "### import libraries"
   ]
  },
  {
   "cell_type": "code",
   "execution_count": null,
   "id": "7078de83-a6b6-4de8-a078-855d9ec8943f",
   "metadata": {},
   "outputs": [],
   "source": [
    "import numpy as np\n",
    "import scipy.sparse as sp\n",
    "from scipy.io import savemat # For matlab!\n",
    "import os\n",
    "from Bio import PDB"
   ]
  },
  {
   "cell_type": "markdown",
   "id": "d179b213-31fa-46d3-8bb3-40b949e4cf05",
   "metadata": {},
   "source": [
    "### set parameters"
   ]
  },
  {
   "cell_type": "code",
   "execution_count": null,
   "id": "ba9a7be4-817c-4c0a-9cdc-87a4c963d5e7",
   "metadata": {},
   "outputs": [],
   "source": [
    "'''\n",
    "@params\n",
    "save_dir: where you want the output to be saved\n",
    "pdb_f: path to pdb input\n",
    "chain: chain id to use\n",
    "'''\n",
    "save_dir = f\"./arsa_graphs\"\n",
    "pdb_f = f\"{save_dir}/AF_arsa.pdb\"\n",
    "chain = \"A\""
   ]
  },
  {
   "cell_type": "markdown",
   "id": "7ca12ba8-3220-479c-b1d0-c2de9cc18735",
   "metadata": {},
   "source": [
    "### read pdb, make graph & matlab input"
   ]
  },
  {
   "cell_type": "code",
   "execution_count": null,
   "id": "6a463d3a-e1a8-493a-a831-2c9014550b40",
   "metadata": {},
   "outputs": [],
   "source": [
    "if not os.path.exists(save_dir):\n",
    "    os.mkdir(save_dir)\n",
    "\n",
    "edge_dist_threshold = 4.5 # 4.5 Å for any atom pair\n",
    "three_letter_to_one = {\n",
    "    \"Ala\": \"A\", \"Arg\": \"R\", \"Asn\": \"N\", \"Asp\": \"D\",\n",
    "    \"Cys\": \"C\", \"Gln\": \"Q\", \"Glu\": \"E\", \"Gly\": \"G\",\n",
    "    \"His\": \"H\", \"Ile\": \"I\", \"Leu\": \"L\", \"Lys\": \"K\",\n",
    "    \"Met\": \"M\", \"Phe\": \"F\", \"Pro\": \"P\", \"Ser\": \"S\",\n",
    "    \"Thr\": \"T\", \"Trp\": \"W\", \"Tyr\": \"Y\", \"Val\": \"V\",\n",
    "    \"Sec\": \"U\", \"Pyl\": \"O\", \"Asx\": \"B\", \"Glx\": \"Z\",\n",
    "    \"Xaa\": \"X\", \"Ter\": \"*\"\n",
    "}\n",
    "pdb = pdb_f.split('/')[-1].split('.')[0]\n",
    "parser = PDB.PDBParser(QUIET=True)\n",
    "\n",
    "model = parser.get_structure(pdb, pdb_f)[0][chain]\n",
    "\n",
    "'''\n",
    "get residues and coords\n",
    "'''\n",
    "aa_labels = []\n",
    "coords = []\n",
    "num_residues = 0\n",
    "for residue in model:\n",
    "    # only get standard amino acids, not ligand or water\n",
    "    if PDB.is_aa(residue):\n",
    "        num_residues += 1\n",
    "        if residue.get_resname().capitalize() in three_letter_to_one:\n",
    "            aa_labels.append(three_letter_to_one[residue.get_resname().capitalize()])\n",
    "        else:\n",
    "            aa_labels.append('X')\n",
    "        # print(aa_labels[-1])\n",
    "        atom_coords = {}\n",
    "        for atom in residue:\n",
    "            atom_coords[atom.get_name()] = residue[atom.get_name()].coord\n",
    "        coords.append(atom_coords)\n",
    "\n",
    "'''\n",
    "construct edge matrix, no self-loops\n",
    "'''\n",
    "edge_mat = np.zeros((num_residues,num_residues)) # dont include diagonal for pedja's profile kernel input\n",
    "for i in range(num_residues):\n",
    "    for j in range(i+1,num_residues):\n",
    "         # just don't include edges for nodes that don't have any atoms\n",
    "        if i < len(coords) and j < len(coords) and coords[i] is not None and coords[j] is not None:\n",
    "            found = False\n",
    "            for atom_i in coords[i]:\n",
    "                for atom_j in coords[j]:\n",
    "                    if not found:\n",
    "                        dist = np.linalg.norm(coords[i][atom_i] - coords[j][atom_j])\n",
    "                        if dist <= edge_dist_threshold: \n",
    "                            # print(f'{i},{j}: atoms {atom_i} and {atom_j} <= 4.5Å')\n",
    "                            assert edge_mat[i,j] == edge_mat[j,i] and edge_mat[i,j] == 0\n",
    "                            edge_mat[i,j],edge_mat[j,i] = 1,1 # undirected edges\n",
    "                            found = True\n",
    "\n",
    "'''\n",
    "save to matlab input file\n",
    "assume matlab automatically converts zero-based indexing to one-based\n",
    "'''\n",
    "savemat(f'{save_dir}/{pdb}_{chain}.mat', {'G': sp.csr_matrix(edge_mat), 'L': aa_labels}) # aa labels is the same as pdb seq as a list"
   ]
  },
  {
   "cell_type": "code",
   "execution_count": null,
   "id": "da62dcaf-e6da-4562-b977-963377b12ad7",
   "metadata": {},
   "outputs": [],
   "source": [
    "len(aa_labels),len(coords)"
   ]
  },
  {
   "cell_type": "markdown",
   "id": "bdc332ca-b32c-48c5-b276-62f3fcf5ee8f",
   "metadata": {},
   "source": [
    "### make jose's graphlet kernel input"
   ]
  },
  {
   "cell_type": "code",
   "execution_count": null,
   "id": "443392b3-cd48-4039-a04c-59b658b0e56e",
   "metadata": {},
   "outputs": [],
   "source": [
    "from scipy.io import loadmat\n",
    "\n",
    "f = f\"{save_dir}/{pdb}_{chain}.mat\"\n",
    "key = f.split('/')[-1].split('.')[0]\n",
    "mat_data = loadmat(f'{save_dir}/{key}.mat')\n",
    "\n",
    "dense_mat = mat_data['G'].toarray()\n",
    "pdb_seq = mat_data['L']\n",
    "if len(pdb_seq) == 1:\n",
    "    pdb_seq = pdb_seq[0]\n",
    "else:\n",
    "    pdb_seq = ''.join(pdb_seq)\n",
    "\n",
    "with open(f\"{save_dir}/{key}.graph\",'w') as f_w:\n",
    "    for i in range(len(dense_mat)):\n",
    "        nonzero = dense_mat[i].nonzero()\n",
    "        assert len(nonzero) == 1\n",
    "        close_indices = '\\t'.join(map(str, nonzero[0]))\n",
    "        f_w.write(f\"{i} {close_indices}\\n\")\n",
    "    print(f\"wrote {save_dir}/{key}.graph\")\n",
    "\n",
    "with open(f\"{save_dir}/{key}.labels\",'w') as f_w:\n",
    "    f_w.write(pdb_seq)\n",
    "    print(f\"wrote {save_dir}/{key}.labels\")"
   ]
  },
  {
   "cell_type": "markdown",
   "id": "6185caae-c078-4d7b-8a74-49b7be68e8ff",
   "metadata": {},
   "source": [
    "### write pos & neg idx files"
   ]
  },
  {
   "cell_type": "code",
   "execution_count": null,
   "id": "206c16a8-05e6-4c8e-a7f2-e4bf4484e879",
   "metadata": {},
   "outputs": [],
   "source": [
    "'''\n",
    "fix as needed for your data\n",
    "if your data is not labeled pos/neg, just set each point to whichever classification\n",
    "jose's graphlet kernel input will only generate features for indices either in the .pos or .neg file,\n",
    "    so put all indices if you want features for all residues\n",
    "'''\n",
    "with open(f'{save_dir}/{key}.pos','w') as f:\n",
    "    for res_idx in range(len(aa_labels)):\n",
    "        f.write(f\"{res_idx}\\n\") # normal indexing for jose's input\n",
    "    print(f'wrote {save_dir}/{key}.pos')\n",
    "with open(f'{save_dir}/{key}.neg','w') as f:\n",
    "    print(f'wrote {save_dir}/{key}.neg')"
   ]
  }
 ],
 "metadata": {
  "kernelspec": {
   "display_name": "Python 3 (ipykernel)",
   "language": "python",
   "name": "python3"
  },
  "language_info": {
   "codemirror_mode": {
    "name": "ipython",
    "version": 3
   },
   "file_extension": ".py",
   "mimetype": "text/x-python",
   "name": "python",
   "nbconvert_exporter": "python",
   "pygments_lexer": "ipython3",
   "version": "3.11.8"
  }
 },
 "nbformat": 4,
 "nbformat_minor": 5
}
