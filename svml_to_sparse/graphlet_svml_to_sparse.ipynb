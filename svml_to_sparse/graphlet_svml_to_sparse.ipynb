{
 "cells": [
  {
   "cell_type": "markdown",
   "id": "0215eb74-e8b4-446f-9b9c-6f9151ddf8da",
   "metadata": {},
   "source": [
    "## Code to organize svml output from graphlet counting into a usable sparse matrix file\n",
    "#### Ross stewart\n",
    "#### Dec 2024"
   ]
  },
  {
   "cell_type": "markdown",
   "id": "36356d55-05da-43e3-a30b-e81d5815070e",
   "metadata": {},
   "source": [
    "### adjust file paths"
   ]
  },
  {
   "cell_type": "code",
   "execution_count": 1,
   "id": "e550fe37-fc46-4aa0-bc02-442d263d1ad0",
   "metadata": {},
   "outputs": [],
   "source": [
    "import os\n",
    "svml_results_dir = \"./graphlet_std_results_alph40\" # location of graphlet counting output\n",
    "results_dir = \"./graphlet_svml_to_sparse_results\" # directory to store results\n",
    "pdb_ids_out_f = f\"{results_dir}/example_pdb_ids.npy\" # pdb id corresponding to every data point, useful if you are stratifying by protein. leave empty if you don't wish to save\n",
    "features_out_f = f\"{results_dir}/example_features.npz\" # feature matrix file name\n",
    "labels_out_f = f\"{results_dir}/example_labels.npy\" # label file name\n",
    "os.makedirs(results_dir,exist_ok=True)"
   ]
  },
  {
   "cell_type": "markdown",
   "id": "e621ca25-11ff-4ce1-8137-0fa74725c887",
   "metadata": {},
   "source": [
    "### read graphlet features from each `.svml` file"
   ]
  },
  {
   "cell_type": "code",
   "execution_count": 2,
   "id": "1f7473bd-8c82-48b6-9046-dbcfbc8056b0",
   "metadata": {},
   "outputs": [
    {
     "name": "stdout",
     "output_type": "stream",
     "text": [
      "pdb ids saved in ./graphlet_svml_to_sparse_results/example_pdb_ids.npy with shape (40913,)\n",
      "labels saved in ./graphlet_svml_to_sparse_results/example_labels.npy with shape (40913,)\n"
     ]
    }
   ],
   "source": [
    "import glob\n",
    "import pandas as pd\n",
    "import numpy as np\n",
    "\n",
    "df = pd.DataFrame()\n",
    "\n",
    "residue_idx = 0 # the row of the sparse matrix\n",
    "labels = []\n",
    "pdb_ids = []\n",
    "sparse_feats = {}\n",
    "for svml in glob.glob(f'{svml_results_dir}/*_sgk.svml'):\n",
    "    pdb_id = svml.split('/')[-1].split('_sgk')[0]\n",
    "    with open(svml,'r') as f:\n",
    "        for line in f:\n",
    "            vals = line.strip().split()\n",
    "            label = int(vals[0])\n",
    "            idx = int(vals[-1].replace('#',''))\n",
    "            feats_and_counts  = vals[1:-1]\n",
    "            for feat_and_count in feats_and_counts:\n",
    "                feat,count = feat_and_count.split(':')\n",
    "                # assert int(feat) not in sparse_feats\n",
    "                sparse_feats[(residue_idx,int(feat))] = float(count)\n",
    "            residue_idx += 1\n",
    "            labels.append(label)\n",
    "            pdb_ids.append(pdb_id)\n",
    "\n",
    "if len(pdb_ids_out_f) != 0:\n",
    "    np.save(pdb_ids_out_f, pdb_ids)\n",
    "    print(f'pdb ids saved in {pdb_ids_out_f} with shape {np.array(pdb_ids).shape}')\n",
    "\n",
    "np.save(labels_out_f, labels)\n",
    "print(f'labels saved in {labels_out_f} with shape {np.array(labels).shape}')"
   ]
  },
  {
   "cell_type": "markdown",
   "id": "f9e59878-1bc6-41e5-b9a1-12fdc394c0bd",
   "metadata": {},
   "source": [
    "### convert into `scipy.sparse` format"
   ]
  },
  {
   "cell_type": "code",
   "execution_count": 3,
   "id": "e545f83d-2655-48d2-a457-f01e845c08ee",
   "metadata": {},
   "outputs": [],
   "source": [
    "from scipy.sparse import coo_matrix\n",
    "\n",
    "rows,cols,vals = [],[],[]\n",
    "for (row,col), val in sparse_feats.items():\n",
    "    rows.append(row)\n",
    "    cols.append(col)\n",
    "    vals.append(val)\n",
    "\n",
    "# assume the highest col index appears in the data\n",
    "n_rows = max(rows) + 1\n",
    "n_cols = max(cols) + 1\n",
    "\n",
    "sparse_mat = coo_matrix((vals, (rows, cols)), shape=(n_rows, n_cols)).tocsr()\n",
    "# print(sparse_mat)"
   ]
  },
  {
   "cell_type": "markdown",
   "id": "b92cc39b-7413-4fc6-86a4-fdbb42d67a51",
   "metadata": {},
   "source": [
    "### optional - shift feature indices if they do not start at 0"
   ]
  },
  {
   "cell_type": "code",
   "execution_count": 4,
   "id": "69a37bf4-4059-4e67-9768-de3a38dad08b",
   "metadata": {},
   "outputs": [],
   "source": [
    "from scipy.sparse import csr_matrix, save_npz\n",
    "\n",
    "'''\n",
    "feature indices sometimes start at 6 million or something, shift them to start at 0 and increment by 1\n",
    "'''\n",
    "def shift_feature_indices(X):\n",
    "    unique_features = np.unique(X.indices)\n",
    "    feature_mapping = {old_index: new_index for new_index, old_index in enumerate(unique_features)}\n",
    "    new_indices = np.array([feature_mapping[old_index] for old_index in X.indices])\n",
    "    new_csr_mat = csr_matrix((X.data, new_indices, X.indptr), shape=(X.shape[0], len(unique_features)))\n",
    "    \n",
    "    return new_csr_mat\n",
    "    \n",
    "sparse_mat = shift_feature_indices(sparse_mat)"
   ]
  },
  {
   "cell_type": "markdown",
   "id": "7acca3a0-bf31-49d1-a5bb-6b0e6b126cd8",
   "metadata": {},
   "source": [
    "### save feature file"
   ]
  },
  {
   "cell_type": "code",
   "execution_count": 5,
   "id": "ea1a251a-811c-4d3c-aefc-ab2146ca4de3",
   "metadata": {},
   "outputs": [
    {
     "name": "stdout",
     "output_type": "stream",
     "text": [
      "sparse matrix saved as ./graphlet_svml_to_sparse_results/example_features.npz with shape (40913, 45622719)\n"
     ]
    }
   ],
   "source": [
    "save_npz(features_out_f, sparse_mat)\n",
    "print(f'sparse matrix saved as {features_out_f} with shape {sparse_mat.shape}')"
   ]
  }
 ],
 "metadata": {
  "kernelspec": {
   "display_name": "Python 3 (ipykernel)",
   "language": "python",
   "name": "python3"
  },
  "language_info": {
   "codemirror_mode": {
    "name": "ipython",
    "version": 3
   },
   "file_extension": ".py",
   "mimetype": "text/x-python",
   "name": "python",
   "nbconvert_exporter": "python",
   "pygments_lexer": "ipython3",
   "version": "3.11.8"
  }
 },
 "nbformat": 4,
 "nbformat_minor": 5
}
